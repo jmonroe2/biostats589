{
 "cells": [
  {
   "cell_type": "code",
   "execution_count": 1,
   "metadata": {},
   "outputs": [],
   "source": [
    "import numpy as np\n",
    "import matplotlib.pyplot as plt\n",
    "np.random.seed(2018)"
   ]
  },
  {
   "cell_type": "code",
   "execution_count": 4,
   "metadata": {},
   "outputs": [],
   "source": [
    "num_replicates = 3\n",
    "measures_per_replicate = 100\n",
    "species_prob = [1, 2, 8, 15, 10, 37, 52, 100, 150, 200 ] ## relative weights\n",
    "species_prob = np.array(species_prob)/sum(species_prob)\n",
    "num_species = len(species_prob) # == 10\n",
    "mu_a = -5\n",
    "mu_b = 5"
   ]
  },
  {
   "cell_type": "code",
   "execution_count": 5,
   "metadata": {},
   "outputs": [
    {
     "name": "stdout",
     "output_type": "stream",
     "text": [
      "[0.00173913 0.00347826 0.01391304 0.02608696 0.0173913  0.06434783\n",
      " 0.09043478 0.17391304 0.26086957 0.34782609]\n"
     ]
    }
   ],
   "source": [
    "print(species_prob)"
   ]
  },
  {
   "cell_type": "markdown",
   "metadata": {},
   "source": [
    "This problem reminds me of the PCA analysis: one may simply be \"projecting along the wrong axis\". If we somehow used the wrong metric we could wash out our distinction. Here, we can do a simply issue with measureing the square.    "
   ]
  },
  {
   "cell_type": "code",
   "execution_count": 8,
   "metadata": {},
   "outputs": [
    {
     "name": "stdout",
     "output_type": "stream",
     "text": [
      "0.3280960630981895\n",
      "[0 1 2 3 4 5 6 7 8]\n"
     ]
    }
   ],
   "source": [
    "#for i in range(num_replicates):\n",
    "if True:\n",
    "    #ax = plt.subplot(1,i+1,num_replicates)\n",
    "    \n",
    "    ## each replicate should sample which species to extract, then add then about their respective means. \n",
    "    rands = np.random.random(measures_per_replicate)\n",
    "    ## get first index which has a higher probability than the random value\n",
    "    print(rands[0])\n",
    "    print(np.where(rands[0] > species_prob)[0])"
   ]
  },
  {
   "cell_type": "code",
   "execution_count": null,
   "metadata": {},
   "outputs": [],
   "source": []
  }
 ],
 "metadata": {
  "kernelspec": {
   "display_name": "Python 3",
   "language": "python",
   "name": "python3"
  },
  "language_info": {
   "codemirror_mode": {
    "name": "ipython",
    "version": 3
   },
   "file_extension": ".py",
   "mimetype": "text/x-python",
   "name": "python",
   "nbconvert_exporter": "python",
   "pygments_lexer": "ipython3",
   "version": "3.6.6"
  }
 },
 "nbformat": 4,
 "nbformat_minor": 2
}
