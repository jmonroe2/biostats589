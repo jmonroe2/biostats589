{
 "cells": [
  {
   "cell_type": "code",
   "execution_count": 1,
   "metadata": {},
   "outputs": [],
   "source": [
    "import numpy as np\n",
    "import matplotlib.pyplot as plt"
   ]
  },
  {
   "cell_type": "code",
   "execution_count": 2,
   "metadata": {},
   "outputs": [],
   "source": [
    "num_replicates = 3\n",
    "measures_per_replicate = 100\n",
    "species_prob = [1, 2, 8, 15, 10, 37, 52, 100, 150, 200 ] ## relative weights\n",
    "species_prob = np.array(species_prob)/sum(species_prob)\n",
    "num_species = len(species_prob) # == 10\n"
   ]
  },
  {
   "cell_type": "code",
   "execution_count": 3,
   "metadata": {},
   "outputs": [
    {
     "name": "stdout",
     "output_type": "stream",
     "text": [
      "[0.00173913 0.00347826 0.01391304 0.02608696 0.0173913  0.06434783\n",
      " 0.09043478 0.17391304 0.26086957 0.34782609]\n"
     ]
    }
   ],
   "source": [
    "print(species_prob)"
   ]
  },
  {
   "cell_type": "code",
   "execution_count": null,
   "metadata": {},
   "outputs": [],
   "source": []
  }
 ],
 "metadata": {
  "kernelspec": {
   "display_name": "Python 3",
   "language": "python",
   "name": "python3"
  },
  "language_info": {
   "codemirror_mode": {
    "name": "ipython",
    "version": 3
   },
   "file_extension": ".py",
   "mimetype": "text/x-python",
   "name": "python",
   "nbconvert_exporter": "python",
   "pygments_lexer": "ipython3",
   "version": "3.6.6"
  }
 },
 "nbformat": 4,
 "nbformat_minor": 2
}
